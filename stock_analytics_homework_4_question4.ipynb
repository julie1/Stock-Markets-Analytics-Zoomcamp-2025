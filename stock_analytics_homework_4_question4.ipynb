{
  "nbformat": 4,
  "nbformat_minor": 0,
  "metadata": {
    "colab": {
      "provenance": [],
      "authorship_tag": "ABX9TyNRbUsnAmr9JlQFG+X6c0eD",
      "include_colab_link": true
    },
    "kernelspec": {
      "name": "python3",
      "display_name": "Python 3"
    },
    "language_info": {
      "name": "python"
    }
  },
  "cells": [
    {
      "cell_type": "markdown",
      "metadata": {
        "id": "view-in-github",
        "colab_type": "text"
      },
      "source": [
        "<a href=\"https://colab.research.google.com/github/julie1/Stock-Markets-Analytics-Zoomcamp-2025/blob/main/stock_analytics_homework_4_question4.ipynb\" target=\"_parent\"><img src=\"https://colab.research.google.com/assets/colab-badge.svg\" alt=\"Open In Colab\"/></a>"
      ]
    },
    {
      "cell_type": "markdown",
      "source": [
        "Since my capital is limited and my strategy is not purely theoretical, I might try to invest \\$50 in an index fund like the S&P and \\$100 in a portfolio of stocks that I would predict to be tariff proof.\n",
        "Instead of 30 days, I would make my predictions for at least 3 months and possibly longer and would make the threshhold for a positive prediction higher\n",
        "to limit transaction fees.  I might vary the 1/3 ratio of passive to active to make more predictions.  The best predictions would require less than 5 trades per year and with a CAGR >= 1.12.  I might have to adjust my portfolio to obtain this.  I would need to try various ML models as well.\n"
      ],
      "metadata": {
        "id": "DE1dhUtBn6v8"
      }
    },
    {
      "cell_type": "markdown",
      "source": [],
      "metadata": {
        "id": "8uuPXrDxrGLj"
      }
    }
  ]
}